{
 "cells": [
  {
   "cell_type": "markdown",
   "id": "b5598442-3802-497c-9238-397c624432bb",
   "metadata": {},
   "source": [
    "\n",
    "# 赛题介绍\n",
    "\n",
    "百度网盘AI大赛——图像处理挑战赛是 百度网盘开放平台 面向AI开发者和爱好者发起的计算机视觉领域挑战赛。AI时代已到来，百度网盘与百度飞桨AI Studio强强联合，旨在基于个人云存储的生态能力开放，通过比赛机制，鼓励选手结合当下前沿的计算机视觉技术与图像处理技术，完成模型设计搭建与训练优化，产出基于飞桨框架的开源模型方案，为中国开源生态建设贡献一份力量。\n",
    "\n",
    "本次图像处理挑战赛以线上比赛的形式进行，参赛选手需要在规定时间内，完成模型设计搭建与训练优化，并提交基于评测数据集产出的结果文件，榜单排名靠前且通过代码复查的队伍可获得高额奖金。\n",
    "\n",
    "百度网盘开放平台 致力于为全球AI开发者和爱好者提供专业、高效的AI学习与开发环境，挖掘培养AI人才，助力技术产业生态发展。我们向所有胸怀梦想的开发者发出邀请，希望大家能与百度一起，用技术让复杂的世界变得更简单。\n",
    "\n",
    "# 数据集简介\n",
    "\n",
    "选手需要建立模型，对比赛给定的带有摩尔纹的图片进行处理，消除屏摄产生的摩尔纹噪声，还原图片原本的样子，并提交模型输出的结果图片。希望各位参赛选手结合当下前沿的计算机视觉技术与图像处理技术，在设计搭建模型的基础上，提升模型的训练性能、精度效果和泛化能力。在保证效果精准的同时，可以进一步考虑模型在实际应用中的性能表现，如更轻量、更高效等。\n",
    "\n",
    "在本次比赛最新发布的数据集中，所有的图像数据均由真实场景采集得到，再通过技术手段进行相应处理，生成可用的脱敏数据集。该任务为image-to-image的形式，因此源数据和GT数据均以图片的形式来提供。各位选手可基于本次比赛最新发布的训练数据快速融入比赛，为达到更好的算法效果，本次比赛不限制大家使用额外的训练数据来优化模型。测试数据集的GT不做公开，请各位选手基于本次比赛最新发布的测试数据集提交对应的结果文件。\n",
    "\n",
    "数据集构成\n",
    "```\n",
    "|- root  \n",
    "    |- images\n",
    "    |- gts\n",
    "```\n",
    "本次比赛最新发布的数据集共包含训练集、A榜测试集、B榜测试集三个部分，其中训练集共1000个样本，A榜测试集共200个样本，B榜测试集共200个样本；\n",
    "images 为带摩尔纹的源图像数据，gts 为无摩尔纹的真值数据（仅有训练集数据提供gts ，A榜测试集、B榜测试集数据均不提供gts）；\n",
    "images 与 gts 中的图片根据图片名称一一对应。\n",
    "\n",
    "# 方案介绍\n",
    "\n",
    "本方案基于基线调整了训练的Resize大小，从固定的一个值，变为不固定的的值，即输入的图片会被resize到一个并非同一的大小上。\n",
    "\n",
    "一点点记录：\n",
    "\n",
    "| Epoch | SSIM | PSNR | SCORE | MARKDOWN |\n",
    "| -------- | -------- | -------- | -------- | -------- |\n",
    "| 400| 0.96015| 28.85576 | 0.62436| 单张逐一训练共400epoch     |\n",
    "| 320| 0.95375| 28.54452 | 0.6196| 单张逐一训练共400epoch     |\n",
    "| \\ | \t0.89157| 10.79841 | 0.49978\t| \\     |\n",
    "\n"
   ]
  },
  {
   "cell_type": "code",
   "execution_count": null,
   "id": "fd79ce2f-b70c-42cc-bc2d-379003dd8fbf",
   "metadata": {
    "execution": {
     "iopub.execute_input": "2022-01-11T22:40:39.188096Z",
     "iopub.status.busy": "2022-01-11T22:40:39.187598Z",
     "iopub.status.idle": "2022-01-11T22:40:44.350680Z",
     "shell.execute_reply": "2022-01-11T22:40:44.349919Z",
     "shell.execute_reply.started": "2022-01-11T22:40:39.188057Z"
    },
    "scrolled": true
   },
   "outputs": [],
   "source": [
    "# 解压数据\n",
    "%cd /home/aistudio/data/\n",
    "!unzip /home/aistudio/data/data120844/moire_train_dataset.zip\n",
    "!unzip /home/aistudio/data/data120844/moire_testA_dataset.zip"
   ]
  },
  {
   "cell_type": "code",
   "execution_count": null,
   "id": "c7a6c021-ac35-4f34-b606-58e09afb5628",
   "metadata": {
    "scrolled": true
   },
   "outputs": [],
   "source": [
    "# resize\n",
    "%cd /home/aistudio/\n",
    "import os\n",
    "import cv2\n",
    "for img_dir in os.listdir('data/moire_train_dataset/images'):\n",
    "    if img_dir[-4:]=='.jpg':\n",
    "        print(img_dir)\n",
    "        img=cv2.imread('data/moire_train_dataset/images/'+img_dir)\n",
    "        [w,h,c]=img.shape\n",
    "        w=round(w/256)*256\n",
    "        img=cv2.resize(img,(w,w))\n",
    "        cv2.imwrite('data/moire_train_dataset/images/'+img_dir,img)\n",
    "        img=cv2.imread('data/moire_train_dataset/gts/'+img_dir)\n",
    "        img=cv2.resize(img,(w,w))\n",
    "        cv2.imwrite('data/moire_train_dataset/gts/'+img_dir,img)"
   ]
  },
  {
   "cell_type": "code",
   "execution_count": null,
   "id": "374cb74d-c7a0-4c0a-b040-4eda91c85f0e",
   "metadata": {
    "scrolled": true
   },
   "outputs": [],
   "source": [
    "# train\r\n",
    "%cd /home/aistudio/demoire-baseline/\\n\r\n",
    "!python train_varsize.py --dataset_root ../data/moire_train_dataset/ --max_epochs 400 --batch_size 1 --sample_interval 400"
   ]
  },
  {
   "cell_type": "code",
   "execution_count": 4,
   "id": "4ba87240-7636-4736-9a6d-ab748d05f5e9",
   "metadata": {
    "execution": {
     "iopub.execute_input": "2022-01-11T22:42:16.754623Z",
     "iopub.status.busy": "2022-01-11T22:42:16.754055Z",
     "iopub.status.idle": "2022-01-11T22:42:42.088219Z",
     "shell.execute_reply": "2022-01-11T22:42:42.087262Z",
     "shell.execute_reply.started": "2022-01-11T22:42:16.754581Z"
    },
    "scrolled": true
   },
   "outputs": [
    {
     "name": "stdout",
     "output_type": "stream",
     "text": [
      "/home/aistudio/demoire-baseline\n",
      "W0112 06:42:18.295904   796 device_context.cc:447] Please NOTE: device: 0, GPU Compute Capability: 7.0, Driver API Version: 10.1, Runtime API Version: 10.1\n",
      "W0112 06:42:18.300663   796 device_context.cc:465] device: 0, cuDNN Version: 7.6.\n",
      "Loading pretrained model from train_result/model/epoch_320/model.pdparams\n",
      "There are 176/176 variables loaded into WDNet.\n"
     ]
    }
   ],
   "source": [
    "# predict\n",
    "%cd /home/aistudio/demoire-baseline/\n",
    "!python predict.py --dataset_root ../data/moire_testA_dataset/ --pretrained train_result/model/epoch_320/model.pdparams \n",
    "%cd /home/aistudio/demoire-baseline/output/pre/\n",
    "!zip result.zip *.jpg *.txt"
   ]
  },
  {
   "cell_type": "code",
   "execution_count": null,
   "id": "6f022984-2b92-4cc0-907c-6e6a45f05e73",
   "metadata": {
    "scrolled": true
   },
   "outputs": [],
   "source": []
  }
 ],
 "metadata": {
  "kernelspec": {
   "display_name": "Python 3",
   "language": "python",
   "name": "py35-paddle1.2.0"
  },
  "language_info": {
   "codemirror_mode": {
    "name": "ipython",
    "version": 3
   },
   "file_extension": ".py",
   "mimetype": "text/x-python",
   "name": "python",
   "nbconvert_exporter": "python",
   "pygments_lexer": "ipython3",
   "version": "3.7.4"
  }
 },
 "nbformat": 4,
 "nbformat_minor": 5
}
